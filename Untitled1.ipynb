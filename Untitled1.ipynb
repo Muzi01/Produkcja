{
  "nbformat": 4,
  "nbformat_minor": 0,
  "metadata": {
    "colab": {
      "provenance": [],
      "authorship_tag": "ABX9TyO4CBX4eA4wUZJavVC8HnDq",
      "include_colab_link": true
    },
    "kernelspec": {
      "name": "python3",
      "display_name": "Python 3"
    },
    "language_info": {
      "name": "python"
    }
  },
  "cells": [
    {
      "cell_type": "markdown",
      "metadata": {
        "id": "view-in-github",
        "colab_type": "text"
      },
      "source": [
        "<a href=\"https://colab.research.google.com/github/Muzi01/Produkcja/blob/master/Untitled1.ipynb\" target=\"_parent\"><img src=\"https://colab.research.google.com/assets/colab-badge.svg\" alt=\"Open In Colab\"/></a>"
      ]
    },
    {
      "cell_type": "code",
      "source": [
        "!pip install openai\n",
        "!openai migrate\n",
        "\n"
      ],
      "metadata": {
        "colab": {
          "base_uri": "https://localhost:8080/"
        },
        "id": "sBbOsOW072EN",
        "outputId": "81b03d5c-0207-4e01-e66d-64df02fab524"
      },
      "execution_count": 5,
      "outputs": [
        {
          "output_type": "stream",
          "name": "stdout",
          "text": [
            "Requirement already satisfied: openai in /usr/local/lib/python3.10/dist-packages (1.14.3)\n",
            "Requirement already satisfied: anyio<5,>=3.5.0 in /usr/local/lib/python3.10/dist-packages (from openai) (3.7.1)\n",
            "Requirement already satisfied: distro<2,>=1.7.0 in /usr/lib/python3/dist-packages (from openai) (1.7.0)\n",
            "Requirement already satisfied: httpx<1,>=0.23.0 in /usr/local/lib/python3.10/dist-packages (from openai) (0.27.0)\n",
            "Requirement already satisfied: pydantic<3,>=1.9.0 in /usr/local/lib/python3.10/dist-packages (from openai) (2.6.4)\n",
            "Requirement already satisfied: sniffio in /usr/local/lib/python3.10/dist-packages (from openai) (1.3.1)\n",
            "Requirement already satisfied: tqdm>4 in /usr/local/lib/python3.10/dist-packages (from openai) (4.66.2)\n",
            "Requirement already satisfied: typing-extensions<5,>=4.7 in /usr/local/lib/python3.10/dist-packages (from openai) (4.10.0)\n",
            "Requirement already satisfied: idna>=2.8 in /usr/local/lib/python3.10/dist-packages (from anyio<5,>=3.5.0->openai) (3.6)\n",
            "Requirement already satisfied: exceptiongroup in /usr/local/lib/python3.10/dist-packages (from anyio<5,>=3.5.0->openai) (1.2.0)\n",
            "Requirement already satisfied: certifi in /usr/local/lib/python3.10/dist-packages (from httpx<1,>=0.23.0->openai) (2024.2.2)\n",
            "Requirement already satisfied: httpcore==1.* in /usr/local/lib/python3.10/dist-packages (from httpx<1,>=0.23.0->openai) (1.0.5)\n",
            "Requirement already satisfied: h11<0.15,>=0.13 in /usr/local/lib/python3.10/dist-packages (from httpcore==1.*->httpx<1,>=0.23.0->openai) (0.14.0)\n",
            "Requirement already satisfied: annotated-types>=0.4.0 in /usr/local/lib/python3.10/dist-packages (from pydantic<3,>=1.9.0->openai) (0.6.0)\n",
            "Requirement already satisfied: pydantic-core==2.16.3 in /usr/local/lib/python3.10/dist-packages (from pydantic<3,>=1.9.0->openai) (2.16.3)\n",
            "Retrieving Grit CLI metadata from https://api.keygen.sh/v1/accounts/custodian-dev/artifacts/marzano-linux-x64\n",
            "Fetching release URL from: https://api.keygen.sh//v1/accounts/custodian-dev/artifacts/marzano-linux-x64\n",
            "Fetching release URL from: https://api.keygen.sh//v1/accounts/custodian-dev/artifacts/gouda-linux-x64\n",
            "Fetching release URL from: https://api.keygen.sh//v1/accounts/custodian-dev/artifacts/workflow_runner-linux-x64\n",
            "Fetching release URL from: https://api.keygen.sh//v1/accounts/custodian-dev/artifacts/cli-linux-x64\n",
            "Fetching release URL from: https://api.keygen.sh//v1/accounts/custodian-dev/artifacts/timekeeper-linux-x64\n",
            "\n",
            "\u001b[2K\u001b[1A\n",
            "\u001b[2K\u001b[1A\n",
            "\u001b[1m\u001b[2mAnalyzing\u001b[0m \u001b[1m\u001b[2mFinding files                                                         \u001b[0m\n",
            "\u001b[2K\u001b[2AProcessed 0 files and found 0 matches\n"
          ]
        }
      ]
    },
    {
      "cell_type": "code",
      "execution_count": null,
      "metadata": {
        "id": "FcOm2bhr7FhN"
      },
      "outputs": [],
      "source": [
        "import logging\n",
        "import sqlparse\n",
        "from sqlalchemy import create_engine, inspect\n",
        "\n",
        "# Konfiguracja logowania\n",
        "logging.basicConfig(level=logging.INFO)\n",
        "logger = logging.getLogger(__name__)\n",
        "\n",
        "class Connection:\n",
        "    def __init__(self, address, username=None, password=None, port=None):\n",
        "        self.address = address\n",
        "        self.username = username\n",
        "        self.password = password\n",
        "        self.port = port\n",
        "\n",
        "    def connect(self):\n",
        "        connection_string = f'sqlite:///{self.address}'\n",
        "        if self.username and self.password:\n",
        "            connection_string = f\"postgresql+psycopg2://{self.username}:{self.password}@{self.address}:{self.port}\"\n",
        "        elif self.username:\n",
        "            connection_string = f\"postgresql+psycopg2://{self.username}@{self.address}:{self.port}\"\n",
        "        engine = create_engine(connection_string)\n",
        "        logger.info(\"Ustanowiono połączenie z bazą danych.\")\n",
        "        return engine\n",
        "\n",
        "class Database:\n",
        "    def __init__(self, engine):\n",
        "        self.engine = engine\n",
        "\n",
        "    def get_table_names(self):\n",
        "        inspector = inspect(self.engine)\n",
        "        table_names = inspector.get_table_names()\n",
        "        logger.info(f\"Pobrano nazwy tabel: {table_names}\")\n",
        "        return table_names\n",
        "\n",
        "    def get_foreign_keys(self, table_name):\n",
        "        inspector = inspect(self.engine)\n",
        "        foreign_keys = inspector.get_foreign_keys(table_name)\n",
        "        logger.info(f\"Pobrano klucze obce dla tabeli '{table_name}': {foreign_keys}\")\n",
        "        return foreign_keys\n",
        "\n",
        "class DatabaseAgent:\n",
        "    def __init__(self, database):\n",
        "        self.database = database\n",
        "\n",
        "    def generate_report(self):\n",
        "        table_names = self.database.get_table_names()\n",
        "        relations = []\n",
        "\n",
        "        for table_name in table_names:\n",
        "            foreign_keys = self.database.get_foreign_keys(table_name)\n",
        "            for fk in foreign_keys:\n",
        "                relations.append((fk['referred_table'], table_name))\n",
        "\n",
        "        report = {\n",
        "            \"tables\": table_names,\n",
        "            \"relations\": relations\n",
        "        }\n",
        "        logger.info(\"Wygenerowano raport bazy danych.\")\n",
        "        return report\n",
        "\n",
        "class ErrorHandling:\n",
        "    def handle_error(self, error_message):\n",
        "        logger.error(f\"Błąd: {error_message}\")\n",
        "        print(f\"Błąd: {error_message}\")\n",
        "\n",
        "def main():\n",
        "    try:\n",
        "        # Inicjalizuj połączenie z bazą danych\n",
        "        connection = Connection(address='twoja_baza_danych.db', username=None, password=None, port=None)\n",
        "        engine = connection.connect()\n",
        "\n",
        "        # Inicjalizuj obiekt bazy danych\n",
        "        database = Database(engine)\n",
        "\n",
        "        # Utwórz agenta bazy danych\n",
        "        database_agent = DatabaseAgent(database)\n",
        "\n",
        "        # Generuj raport na podstawie bazy danych\n",
        "        report = database_agent.generate_report()\n",
        "        print(\"Raport bazy danych:\")\n",
        "        print(report)\n",
        "\n",
        "        # Kontynuuj z innymi działaniami lub agentami...\n",
        "\n",
        "    except Exception as e:\n",
        "        error_handling = ErrorHandling()\n",
        "        error_handling.handle_error(str(e))\n",
        "\n",
        "if __name__ == \"__main__\":\n",
        "    main()\n"
      ]
    }
  ]
}